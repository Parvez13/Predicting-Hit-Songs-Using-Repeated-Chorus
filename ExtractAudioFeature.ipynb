{
 "cells": [
  {
   "cell_type": "markdown",
   "metadata": {
    "id": "CFKc4DHx_XV3"
   },
   "source": [
    "### Load dataset\n",
    "\n",
    "- `path:` list of paths of chours.\n",
    "- `titles:` list of titles of songs.\n",
    "- `data:` a list contains data for each chours."
   ]
  },
  {
   "cell_type": "code",
   "execution_count": null,
   "metadata": {
    "id": "2rK0jm_6_XWJ"
   },
   "outputs": [],
   "source": [
    "import pandas as pd\n",
    "dataset = pd.read_csv('Data/chorusData.csv')\n",
    "paths = list(dataset['choruspath'])\n",
    "titles = list(dataset['Title'])\n",
    "data = []"
   ]
  },
  {
   "cell_type": "markdown",
   "metadata": {
    "id": "L5rMkeFQ_XWP"
   },
   "source": [
    "## Two methods to extract features.\n",
    "### First Method (statistics)\n",
    "    That include all statistics we extract from features (skew, min, max, std, mean, median, kurtosis)\n",
    "*`parameters`*\n",
    "- `list:` list of feature we extracted from chours.\n",
    "- `feature:` feature name shich we use with librosa.\n",
    "- `columns_name:` list of all features we extracted which is 518 stored them to use it as a columns of dataframe\n",
    "- `data:` data that contain 518 value which for every statistics for every feature. \n",
    "\n",
    "return data to collect all feature for it in second method....\n",
    "\n",
    "### Second Method (extract_features)\n",
    "    The main method of extract feature\n",
    "*`parameters`*\n",
    "- `audio_path:` path of chours we want to extract features from it.\n",
    "- `title:` title of chours\n",
    "\n",
    "return data and columns_name"
   ]
  },
  {
   "cell_type": "code",
   "execution_count": null,
   "metadata": {
    "id": "0Q5wdGZj_XWU"
   },
   "outputs": [],
   "source": [
    "import librosa\n",
    "import numpy as np\n",
    "from scipy.stats import skew, kurtosis\n",
    "\n",
    "def statistics(list, feature, columns_name, data):\n",
    "    i = 0\n",
    "    for ele in list:\n",
    "        _skew = skew(ele)\n",
    "        columns_name.append(f'{feature}_kew_{i}')\n",
    "        min = np.min(ele)\n",
    "        columns_name.append(f'{feature}_min_{i}')\n",
    "        max = np.max(ele)\n",
    "        columns_name.append(f'{feature}_max_{i}')\n",
    "        std = np.std(ele)\n",
    "        columns_name.append(f'{feature}_std_{i}')\n",
    "        mean = np.mean(ele)\n",
    "        columns_name.append(f'{feature}_mean_{i}')\n",
    "        median = np.median(ele)\n",
    "        columns_name.append(f'{feature}_median_{i}')\n",
    "        _kurtosis = kurtosis(ele)\n",
    "        columns_name.append(f'{feature}_kurtosis_{i}')\n",
    "\n",
    "        i += 1\n",
    "        data.append(_skew) \n",
    "        data.append(min)\n",
    "        data.append(max) \n",
    "        data.append(std) \n",
    "        data.append(mean) \n",
    "        data.append(median) \n",
    "        data.append(_kurtosis)\n",
    "    \n",
    "    return data\n",
    "\n",
    "def extract_features(audio_path, title):\n",
    "\n",
    "    data = []\n",
    "    columns_name = ['title']\n",
    "    data.append(title)\n",
    "    x , sr = librosa.load(audio_path)\n",
    "\n",
    "    chroma_stft = librosa.feature.chroma_stft(x, sr)\n",
    "    statistics(chroma_stft, 'chroma_stft', columns_name, data)\n",
    "\n",
    "    chroma_cqt = librosa.feature.chroma_cqt(x, sr)\n",
    "    statistics(chroma_cqt, 'chroma_cqt', columns_name, data)\n",
    "\n",
    "    chroma_cens = librosa.feature.chroma_cens(x, sr)\n",
    "    statistics(chroma_cens, 'chroma_cens', columns_name, data)\n",
    "\n",
    "    mfcc = librosa.feature.mfcc(x, sr)\n",
    "    statistics(mfcc, 'mfcc', columns_name, data)\n",
    "    \n",
    "    rms = librosa.feature.rms(x, sr)\n",
    "    statistics(rms, 'rms', columns_name, data)\n",
    "\n",
    "    spectral_centroid = librosa.feature.spectral_centroid(x , sr)\n",
    "    statistics(spectral_centroid, 'spectral_centroid', columns_name, data)\n",
    "\n",
    "    spectral_bandwidth = librosa.feature.spectral_bandwidth(x , sr)\n",
    "    statistics(spectral_bandwidth, 'spectral_bandwidth', columns_name, data)\n",
    "\n",
    "    spectral_contrast = librosa.feature.spectral_contrast(x , sr)\n",
    "    statistics(spectral_contrast, 'spectral_contrast', columns_name, data)\n",
    "    \n",
    "    spectral_rolloff = librosa.feature.spectral_rolloff(x , sr)\n",
    "    statistics(spectral_rolloff, 'spectral_rolloff', columns_name, data)\n",
    "\n",
    "    tonnetz = librosa.feature.tonnetz(x , sr)\n",
    "    statistics(tonnetz, 'tonnetz', columns_name, data)\n",
    "\n",
    "    zero_crossing_rate = librosa.feature.zero_crossing_rate(x , sr)\n",
    "    statistics(zero_crossing_rate, 'zero_crossing_rate', columns_name, data)\n",
    "\n",
    "    return data, columns_name\n"
   ]
  },
  {
   "cell_type": "markdown",
   "metadata": {
    "id": "Glj3oG5Q_XWa"
   },
   "source": [
    "### Here we extract features\n",
    "*`parameters`*\n",
    "- `i:` itrator to loop in paths.\n",
    "- `audio_path:` path of chorus.\n",
    "- `d:` data which returned from extract_features.\n",
    "- `cols:` colmuns_name which returned from extract_features.\n",
    "\n",
    "`NOTE` It took about 30 minutes"
   ]
  },
  {
   "cell_type": "code",
   "execution_count": null,
   "metadata": {
    "id": "4m81SRDh_XWc"
   },
   "outputs": [],
   "source": [
    "i = 0\n",
    "while i < len(paths):\n",
    "    audio_path = paths[i]\n",
    "    d, cols = extract_features(audio_path, titles[i])\n",
    "    data.append(d)\n",
    "    print(f'The {i} song Done...')\n",
    "    i += 1"
   ]
  },
  {
   "cell_type": "code",
   "execution_count": null,
   "metadata": {
    "id": "gieCOAHw_XWe"
   },
   "outputs": [],
   "source": [
    "# At first time we should convert data.\n",
    "newData = pd.DataFrame(data, columns=cols)\n",
    "newData.to_csv('Data/newData.csv')\n",
    "\n",
    "\n",
    "# Because I do it in several times, I use this code but I must use code above in the first time.\n",
    "# newData = pd.read_csv('Data/NewData.csv')\n",
    "# for row in data:\n",
    "#     newData = newData.append(row, ignore_index = True)"
   ]
  },
  {
   "cell_type": "markdown",
   "metadata": {
    "id": "b7w0iUZQ_XXG"
   },
   "source": [
    "### Now add newData to dataset and clean it."
   ]
  },
  {
   "cell_type": "code",
   "execution_count": null,
   "metadata": {
    "id": "k_dZOvAR_XXJ"
   },
   "outputs": [],
   "source": [
    "# It's shape is (751, 523) if we deleted (Artist, Title, Label, Path, choruspath) columns it will be (751, 518 as mentioned in document)\n",
    "finaldata = pd.concat([dataset, newData], axis=1, join='inner')\n",
    "print(finaldata.shape)\n",
    "finaldata.head(5)"
   ]
  },
  {
   "cell_type": "code",
   "execution_count": null,
   "metadata": {
    "id": "rwHNp-wH_XXM"
   },
   "outputs": [],
   "source": [
    "newtitles = list(newData['title'])\n",
    "lostdata = []  # list to Titles and titles with doesn't matches\n",
    "for i in range(len(titles)):\n",
    "    if titles[i] != newtitles[i]:\n",
    "        lostdata.append(titles[i])\n",
    "\n",
    "# to see if any lost data or not. if(just delete rows) else dataset is good\n",
    "lostdata"
   ]
  },
  {
   "cell_type": "code",
   "execution_count": null,
   "metadata": {
    "id": "GD6mHj5D_XXO"
   },
   "outputs": [],
   "source": [
    "# delete nan rows and data which titles doesn't match\n",
    "# dataset = dataset[dataset.Title.isin(lostdata) == False]\n",
    "# dataset.dropna(inplace=True)"
   ]
  },
  {
   "cell_type": "code",
   "execution_count": null,
   "metadata": {
    "id": "FiPcEhv8_XXR"
   },
   "outputs": [],
   "source": [
    "# if we deleted rows just reset index after that delete title row\n",
    "# dataset.reset_index()\n",
    "del finaldata['title']"
   ]
  },
  {
   "cell_type": "code",
   "execution_count": null,
   "metadata": {
    "id": "UQkvNgH-_XXT"
   },
   "outputs": [],
   "source": [
    "# Save last data\n",
    "finaldata.to_csv('Data\\Final Data.csv', index=False)"
   ]
  },
  {
   "cell_type": "code",
   "execution_count": null,
   "metadata": {
    "id": "RCQYVfqZ_XXU",
    "outputId": "d33d2eaa-c80b-482b-d65c-672c2f001b75"
   },
   "outputs": [
    {
     "name": "stdout",
     "output_type": "stream",
     "text": [
      "(751, 523)\n"
     ]
    },
    {
     "data": {
      "text/html": [
       "<div>\n",
       "<style scoped>\n",
       "    .dataframe tbody tr th:only-of-type {\n",
       "        vertical-align: middle;\n",
       "    }\n",
       "\n",
       "    .dataframe tbody tr th {\n",
       "        vertical-align: top;\n",
       "    }\n",
       "\n",
       "    .dataframe thead th {\n",
       "        text-align: right;\n",
       "    }\n",
       "</style>\n",
       "<table border=\"1\" class=\"dataframe\">\n",
       "  <thead>\n",
       "    <tr style=\"text-align: right;\">\n",
       "      <th></th>\n",
       "      <th>Artist</th>\n",
       "      <th>Title</th>\n",
       "      <th>Label</th>\n",
       "      <th>Path</th>\n",
       "      <th>choruspath</th>\n",
       "      <th>chroma_stft_kew_0</th>\n",
       "      <th>chroma_stft_min_0</th>\n",
       "      <th>chroma_stft_max_0</th>\n",
       "      <th>chroma_stft_std_0</th>\n",
       "      <th>chroma_stft_mean_0</th>\n",
       "      <th>...</th>\n",
       "      <th>tonnetz_mean_5</th>\n",
       "      <th>tonnetz_median_5</th>\n",
       "      <th>tonnetz_kurtosis_5</th>\n",
       "      <th>zero_crossing_rate_kew_0</th>\n",
       "      <th>zero_crossing_rate_min_0</th>\n",
       "      <th>zero_crossing_rate_max_0</th>\n",
       "      <th>zero_crossing_rate_std_0</th>\n",
       "      <th>zero_crossing_rate_mean_0</th>\n",
       "      <th>zero_crossing_rate_median_0</th>\n",
       "      <th>zero_crossing_rate_kurtosis_0</th>\n",
       "    </tr>\n",
       "  </thead>\n",
       "  <tbody>\n",
       "    <tr>\n",
       "      <th>0</th>\n",
       "      <td>The Weeknd</td>\n",
       "      <td>Blinding Lights</td>\n",
       "      <td>1</td>\n",
       "      <td>Songs/The Weeknd - Blinding Lights (Official V...</td>\n",
       "      <td>Songs/RepeatedPopularChorus/The Weeknd - Blind...</td>\n",
       "      <td>0.091806</td>\n",
       "      <td>0.049545</td>\n",
       "      <td>1.0</td>\n",
       "      <td>0.306971</td>\n",
       "      <td>0.570429</td>\n",
       "      <td>...</td>\n",
       "      <td>0.007217</td>\n",
       "      <td>-0.000351</td>\n",
       "      <td>-0.410349</td>\n",
       "      <td>-0.604349</td>\n",
       "      <td>0.022585</td>\n",
       "      <td>0.102132</td>\n",
       "      <td>0.017701</td>\n",
       "      <td>0.072071</td>\n",
       "      <td>0.074626</td>\n",
       "      <td>0.012681</td>\n",
       "    </tr>\n",
       "    <tr>\n",
       "      <th>1</th>\n",
       "      <td>Olivia Rodrigo</td>\n",
       "      <td>Good 4 U</td>\n",
       "      <td>1</td>\n",
       "      <td>Songs/Olivia Rodrigo - good 4 u (Official Vide...</td>\n",
       "      <td>Songs/RepeatedPopularChorus/Olivia Rodrigo - g...</td>\n",
       "      <td>1.025965</td>\n",
       "      <td>0.007265</td>\n",
       "      <td>1.0</td>\n",
       "      <td>0.274179</td>\n",
       "      <td>0.350277</td>\n",
       "      <td>...</td>\n",
       "      <td>-0.011851</td>\n",
       "      <td>-0.010293</td>\n",
       "      <td>0.099909</td>\n",
       "      <td>-0.233246</td>\n",
       "      <td>0.057460</td>\n",
       "      <td>0.229705</td>\n",
       "      <td>0.035304</td>\n",
       "      <td>0.147578</td>\n",
       "      <td>0.157302</td>\n",
       "      <td>-0.281870</td>\n",
       "    </tr>\n",
       "    <tr>\n",
       "      <th>2</th>\n",
       "      <td>Olivia Rodrigo</td>\n",
       "      <td>Drivers License</td>\n",
       "      <td>1</td>\n",
       "      <td>Songs/Olivia Rodrigo - drivers license (Offici...</td>\n",
       "      <td>Songs/RepeatedPopularChorus/Olivia Rodrigo - d...</td>\n",
       "      <td>1.395750</td>\n",
       "      <td>0.000648</td>\n",
       "      <td>1.0</td>\n",
       "      <td>0.307888</td>\n",
       "      <td>0.236975</td>\n",
       "      <td>...</td>\n",
       "      <td>0.001545</td>\n",
       "      <td>-0.009260</td>\n",
       "      <td>0.360879</td>\n",
       "      <td>0.742759</td>\n",
       "      <td>0.023492</td>\n",
       "      <td>0.178957</td>\n",
       "      <td>0.032571</td>\n",
       "      <td>0.077563</td>\n",
       "      <td>0.066463</td>\n",
       "      <td>-0.180427</td>\n",
       "    </tr>\n",
       "    <tr>\n",
       "      <th>3</th>\n",
       "      <td>Lil Nas X</td>\n",
       "      <td>Montero (Call Me By Your Name)</td>\n",
       "      <td>1</td>\n",
       "      <td>Songs/Lil Nas X - MONTERO (Call Me By Your Nam...</td>\n",
       "      <td>Songs/RepeatedPopularChorus/Lil Nas X - MONTER...</td>\n",
       "      <td>0.926616</td>\n",
       "      <td>0.003467</td>\n",
       "      <td>1.0</td>\n",
       "      <td>0.242382</td>\n",
       "      <td>0.301311</td>\n",
       "      <td>...</td>\n",
       "      <td>-0.014834</td>\n",
       "      <td>-0.023444</td>\n",
       "      <td>0.456362</td>\n",
       "      <td>0.524002</td>\n",
       "      <td>0.051111</td>\n",
       "      <td>0.277596</td>\n",
       "      <td>0.045581</td>\n",
       "      <td>0.147997</td>\n",
       "      <td>0.142472</td>\n",
       "      <td>-0.344706</td>\n",
       "    </tr>\n",
       "    <tr>\n",
       "      <th>4</th>\n",
       "      <td>BTS</td>\n",
       "      <td>Butter</td>\n",
       "      <td>1</td>\n",
       "      <td>Songs/BTS (방탄소년단) 'Butter' Official MV.mp3</td>\n",
       "      <td>Songs/RepeatedPopularChorus/BTS (방탄소년단) 'Butte...</td>\n",
       "      <td>0.311976</td>\n",
       "      <td>0.037900</td>\n",
       "      <td>1.0</td>\n",
       "      <td>0.336300</td>\n",
       "      <td>0.517165</td>\n",
       "      <td>...</td>\n",
       "      <td>0.005743</td>\n",
       "      <td>0.005232</td>\n",
       "      <td>-0.153372</td>\n",
       "      <td>2.700198</td>\n",
       "      <td>0.046848</td>\n",
       "      <td>0.235737</td>\n",
       "      <td>0.030815</td>\n",
       "      <td>0.097298</td>\n",
       "      <td>0.090204</td>\n",
       "      <td>7.939578</td>\n",
       "    </tr>\n",
       "  </tbody>\n",
       "</table>\n",
       "<p>5 rows × 523 columns</p>\n",
       "</div>"
      ],
      "text/plain": [
       "           Artist                           Title  Label  \\\n",
       "0      The Weeknd                 Blinding Lights      1   \n",
       "1  Olivia Rodrigo                        Good 4 U      1   \n",
       "2  Olivia Rodrigo                 Drivers License      1   \n",
       "3       Lil Nas X  Montero (Call Me By Your Name)      1   \n",
       "4             BTS                          Butter      1   \n",
       "\n",
       "                                                Path  \\\n",
       "0  Songs/The Weeknd - Blinding Lights (Official V...   \n",
       "1  Songs/Olivia Rodrigo - good 4 u (Official Vide...   \n",
       "2  Songs/Olivia Rodrigo - drivers license (Offici...   \n",
       "3  Songs/Lil Nas X - MONTERO (Call Me By Your Nam...   \n",
       "4         Songs/BTS (방탄소년단) 'Butter' Official MV.mp3   \n",
       "\n",
       "                                          choruspath  chroma_stft_kew_0  \\\n",
       "0  Songs/RepeatedPopularChorus/The Weeknd - Blind...           0.091806   \n",
       "1  Songs/RepeatedPopularChorus/Olivia Rodrigo - g...           1.025965   \n",
       "2  Songs/RepeatedPopularChorus/Olivia Rodrigo - d...           1.395750   \n",
       "3  Songs/RepeatedPopularChorus/Lil Nas X - MONTER...           0.926616   \n",
       "4  Songs/RepeatedPopularChorus/BTS (방탄소년단) 'Butte...           0.311976   \n",
       "\n",
       "   chroma_stft_min_0  chroma_stft_max_0  chroma_stft_std_0  \\\n",
       "0           0.049545                1.0           0.306971   \n",
       "1           0.007265                1.0           0.274179   \n",
       "2           0.000648                1.0           0.307888   \n",
       "3           0.003467                1.0           0.242382   \n",
       "4           0.037900                1.0           0.336300   \n",
       "\n",
       "   chroma_stft_mean_0  ...  tonnetz_mean_5  tonnetz_median_5  \\\n",
       "0            0.570429  ...        0.007217         -0.000351   \n",
       "1            0.350277  ...       -0.011851         -0.010293   \n",
       "2            0.236975  ...        0.001545         -0.009260   \n",
       "3            0.301311  ...       -0.014834         -0.023444   \n",
       "4            0.517165  ...        0.005743          0.005232   \n",
       "\n",
       "   tonnetz_kurtosis_5  zero_crossing_rate_kew_0  zero_crossing_rate_min_0  \\\n",
       "0           -0.410349                 -0.604349                  0.022585   \n",
       "1            0.099909                 -0.233246                  0.057460   \n",
       "2            0.360879                  0.742759                  0.023492   \n",
       "3            0.456362                  0.524002                  0.051111   \n",
       "4           -0.153372                  2.700198                  0.046848   \n",
       "\n",
       "   zero_crossing_rate_max_0  zero_crossing_rate_std_0  \\\n",
       "0                  0.102132                  0.017701   \n",
       "1                  0.229705                  0.035304   \n",
       "2                  0.178957                  0.032571   \n",
       "3                  0.277596                  0.045581   \n",
       "4                  0.235737                  0.030815   \n",
       "\n",
       "   zero_crossing_rate_mean_0  zero_crossing_rate_median_0  \\\n",
       "0                   0.072071                     0.074626   \n",
       "1                   0.147578                     0.157302   \n",
       "2                   0.077563                     0.066463   \n",
       "3                   0.147997                     0.142472   \n",
       "4                   0.097298                     0.090204   \n",
       "\n",
       "   zero_crossing_rate_kurtosis_0  \n",
       "0                       0.012681  \n",
       "1                      -0.281870  \n",
       "2                      -0.180427  \n",
       "3                      -0.344706  \n",
       "4                       7.939578  \n",
       "\n",
       "[5 rows x 523 columns]"
      ]
     },
     "execution_count": 1,
     "metadata": {},
     "output_type": "execute_result"
    }
   ],
   "source": [
    "import pandas as pd\n",
    "df = pd.read_csv('Data\\Final Data.csv')\n",
    "print(df.shape)\n",
    "df.head()"
   ]
  },
  {
   "cell_type": "code",
   "execution_count": null,
   "metadata": {
    "id": "tTseWhkt_XXY"
   },
   "outputs": [],
   "source": []
  }
 ],
 "metadata": {
  "colab": {
   "name": "ExtractAudioFeature.ipynb",
   "provenance": []
  },
  "interpreter": {
   "hash": "8ab11c53d1d9a7b9c18284ee9fddbbfd900dbf67c14652a18f4e62b731fb1dbb"
  },
  "kernelspec": {
   "display_name": "Python 3 (ipykernel)",
   "language": "python",
   "name": "python3"
  },
  "language_info": {
   "codemirror_mode": {
    "name": "ipython",
    "version": 3
   },
   "file_extension": ".py",
   "mimetype": "text/x-python",
   "name": "python",
   "nbconvert_exporter": "python",
   "pygments_lexer": "ipython3",
   "version": "3.9.7"
  }
 },
 "nbformat": 4,
 "nbformat_minor": 1
}
